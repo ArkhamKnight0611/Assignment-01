{
 "cells": [
  {
   "cell_type": "code",
   "execution_count": 2,
   "id": "68b15946-72c5-406d-aabf-6fc6a27a868a",
   "metadata": {},
   "outputs": [
    {
     "name": "stdin",
     "output_type": "stream",
     "text": [
      "Enter an Integer:  5\n"
     ]
    },
    {
     "name": "stdout",
     "output_type": "stream",
     "text": [
      "120\n"
     ]
    },
    {
     "name": "stdin",
     "output_type": "stream",
     "text": [
      "Enter your number 5\n"
     ]
    },
    {
     "name": "stdout",
     "output_type": "stream",
     "text": [
      "5*1=5\n",
      "5*2=10\n",
      "5*3=15\n",
      "5*4=20\n",
      "5*5=25\n",
      "5*6=30\n",
      "5*7=35\n",
      "5*8=40\n",
      "5*9=45\n",
      "5*10=50\n"
     ]
    }
   ],
   "source": [
    "#Question 1 Ans\n",
    "# We use while loop when do not how many iterations have to done\n",
    "# We use for loop when we know how many iterations have to be done\n",
    "# Example of while loop:-Factorial of n\n",
    "fact=1\n",
    "n = int(input(\"Enter an Integer: \"))\n",
    "while(n>1):\n",
    "      fact=fact*n\n",
    "      n=n-1\n",
    "print(fact)\n",
    "\n",
    "# Example of for loop:-Multiplication Table of a number a\n",
    "a=int(input(\"Enter your number\"))\n",
    "for i in range(1,11):\n",
    "  print(f\"{a}*{i}={a*i}\")"
   ]
  },
  {
   "cell_type": "code",
   "execution_count": 3,
   "id": "40e1f49a-0484-45a2-ad90-7703a0899b33",
   "metadata": {},
   "outputs": [
    {
     "name": "stdout",
     "output_type": "stream",
     "text": [
      "45\n",
      "362880\n",
      "105\n",
      "87178291200\n"
     ]
    }
   ],
   "source": [
    "#Question no 2\n",
    "sum=0\n",
    "product=1\n",
    "for i in range(1,10):\n",
    "    sum=sum+i\n",
    "    product=product*i\n",
    "print(sum)\n",
    "print(product)\n",
    "\n",
    "\n",
    "i=1\n",
    "sum=0\n",
    "product=1\n",
    "b=len(list(range(21,35)))\n",
    "while(i<=b):\n",
    "    sum=sum+i\n",
    "    product=product*i\n",
    "    i=i+1\n",
    "print(sum)\n",
    "print(product)\n"
   ]
  },
  {
   "cell_type": "code",
   "execution_count": 4,
   "id": "2c65742e-600c-4843-9ae3-0bf703c5e3fd",
   "metadata": {},
   "outputs": [
    {
     "name": "stdin",
     "output_type": "stream",
     "text": [
      "Enter the value of units 5567\n"
     ]
    },
    {
     "name": "stdout",
     "output_type": "stream",
     "text": [
      "Your bill is 107390.0\n"
     ]
    }
   ],
   "source": [
    "# Question 3 Ans\n",
    "#Electricity bill\n",
    "n=int(input(\"Enter the value of units\"))\n",
    "if (n<=100):\n",
    "  print(f\"Your bill is {4.5*n}\")\n",
    "elif(100<n<=200):\n",
    "  print(f\"Your bill is {100*4.5+(n-100)*6}\")\n",
    "elif(200<n<=300):\n",
    "  print(f\"Your bill is {100*4.5+100*6+(n-200)*10}\")\n",
    "elif(n>300):\n",
    "  print(f\"Your bill is {100*4.5+100*6+100*10+(n-300)*20}\")"
   ]
  },
  {
   "cell_type": "code",
   "execution_count": null,
   "id": "7c1f2262-1b59-4a4f-866b-65b378065824",
   "metadata": {},
   "outputs": [],
   "source": []
  }
 ],
 "metadata": {
  "kernelspec": {
   "display_name": "Python 3 (ipykernel)",
   "language": "python",
   "name": "python3"
  },
  "language_info": {
   "codemirror_mode": {
    "name": "ipython",
    "version": 3
   },
   "file_extension": ".py",
   "mimetype": "text/x-python",
   "name": "python",
   "nbconvert_exporter": "python",
   "pygments_lexer": "ipython3",
   "version": "3.10.8"
  }
 },
 "nbformat": 4,
 "nbformat_minor": 5
}
